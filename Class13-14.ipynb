{
 "cells": [
  {
   "cell_type": "markdown",
   "metadata": {},
   "source": [
    "# Class 13-14 - Program Design\n",
    "**COMP130 - Introduction to Computing**  \n",
    "**Dickinson College**  "
   ]
  },
  {
   "cell_type": "markdown",
   "metadata": {},
   "source": [
    "### Names:"
   ]
  },
  {
   "cell_type": "markdown",
   "metadata": {},
   "source": [
    "Your name goes here. Your names go here."
   ]
  },
  {
   "cell_type": "markdown",
   "metadata": {},
   "source": [
    "__Q1:__ What is the design process that helps to identify parts of a program that might make a useful function?"
   ]
  },
  {
   "cell_type": "markdown",
   "metadata": {},
   "source": [
    "encapsulation"
   ]
  },
  {
   "cell_type": "markdown",
   "metadata": {},
   "source": [
    "__Q2:__ What is the design process that helps to make functions identified by the process in __Q1__ more reusable?"
   ]
  },
  {
   "cell_type": "markdown",
   "metadata": {},
   "source": [
    "generalization"
   ]
  },
  {
   "cell_type": "markdown",
   "metadata": {},
   "source": [
    "In the exercises below you will use the processes that you identified in __Q1__ and __Q2__ to work your way through a program design.  The exercises will follow steps similar to those in the text and those that you've seen in the class examples. The class examples are available for you to refer to in the __ProgramDesignExamples.ipynb__ notebook.  \n",
    "\n",
    "Keep in mind that your goal here is not simply to produce the final product.  Rather, the exercises are intended to give you practice and experience with program design. While drawing a car (as you will do below) is of little practical utility, the practice and experience the exercises provide will help you as you continue to design and build programs in the future."
   ]
  },
  {
   "cell_type": "markdown",
   "metadata": {},
   "source": [
    "### Drawing a Car\n",
    "\n",
    "Consider the program below that draws a picture of a simple car."
   ]
  },
  {
   "cell_type": "code",
   "execution_count": 2,
   "metadata": {
    "deletable": false,
    "editable": false
   },
   "outputs": [],
   "source": [
    "from graphics import *\n",
    "\n",
    "main_win = GraphWin(\"A Car\", 500,300)\n",
    "\n",
    "main_body=Rectangle(Point(300,250),Point(400,225))\n",
    "main_body.setFill(\"blue\")\n",
    "main_body.draw(main_win)\n",
    "top_body=Rectangle(Point(340,225),Point(380,200))\n",
    "top_body.setFill(\"gray75\")\n",
    "top_body.draw(main_win)\n",
    "\n",
    "front_wheel=Circle(Point(375,250), 15)\n",
    "front_wheel.setFill(\"black\")\n",
    "front_wheel.draw(main_win)\n",
    "\n",
    "rear_wheel=Circle(Point(325,250), 15)\n",
    "rear_wheel.setFill(\"black\")\n",
    "rear_wheel.draw(main_win)\n",
    "\n",
    "main_win.getKey()\n",
    "main_win.close()"
   ]
  },
  {
   "cell_type": "markdown",
   "metadata": {},
   "source": [
    "__Q3:__ Rewrite the above program in the cell below breaking it up into three functions with the following names and parameters:\n",
    "- `draw_body(win)`\n",
    "- `draw_wheels(win)`\n",
    "- `draw_car(win)`\n",
    "\n",
    "Later questions rely on this one, so do not add any additional functions or additional parameters.\n",
    "\n",
    "Also, include statements below your function definitions that:\n",
    "- create a graphics window.\n",
    "- use your functions to cause the car to be drawn.\n",
    "- wait for a key to be pressed.\n",
    "- close the graphics window."
   ]
  },
  {
   "cell_type": "code",
   "execution_count": 2,
   "metadata": {},
   "outputs": [],
   "source": [
    "from graphics import *\n",
    "\n",
    "def draw_body(win):\n",
    "    main_body=Rectangle(Point(300,250),Point(400,225))\n",
    "    main_body.setFill(\"blue\")\n",
    "    main_body.draw(win)\n",
    "    \n",
    "    top_body=Rectangle(Point(340,225),Point(380,200))\n",
    "    top_body.setFill(\"gray75\")\n",
    "    top_body.draw(win)    \n",
    "    \n",
    "def draw_wheels(win):\n",
    "    front_wheel=Circle(Point(375,250), 15)\n",
    "    front_wheel.setFill(\"black\")\n",
    "    front_wheel.draw(win)\n",
    "\n",
    "    rear_wheel=Circle(Point(325,250), 15)\n",
    "    rear_wheel.setFill(\"black\")\n",
    "    rear_wheel.draw(win)    \n",
    "\n",
    "def draw_car(win):\n",
    "    draw_body(win)\n",
    "    draw_wheels(win)\n",
    "    \n",
    "main_win = GraphWin(\"A Car\", 500,300)\n",
    "\n",
    "draw_car(main_win)\n",
    "\n",
    "main_win.getKey()\n",
    "main_win.close()"
   ]
  },
  {
   "cell_type": "markdown",
   "metadata": {},
   "source": [
    "__Q4:__ Which process from __Q1__ or __Q2__ did you apply in making the changes in __Q3__?  Which measure of program quality (*readability*, *maintainability*, *reusability*, *efficiency*) has been most affected by the changes you made? Briefly explain your answer."
   ]
  },
  {
   "cell_type": "markdown",
   "metadata": {},
   "source": [
    "The changes made in Q3 are *encapsulation*, as nameable units of work have been identified and organized in functions. The *readability* of this program has been affected most by the encapsulations because now it is much easier to see the role of each line of code and how each block of code contributes to the final image."
   ]
  },
  {
   "cell_type": "markdown",
   "metadata": {},
   "source": [
    "__Q5:__ Sometimes car enthusiasts like to put larger or smaller wheels onto their cars. Rewrite your program from __Q3__ in the cell below with the following changes:\n",
    "- add a parameter to your `draw_wheels` function indicating the size (i.e. the radius) of the wheel. \n",
    "- modify your main program to prompt the user for a wheel size.\n",
    "- modify `draw_wheels`, `draw_car` and your main program so that the wheels are drawn in the size the user specified.\n",
    "\n",
    "Note: You might want to copy and paste your code from __Q3__ and then modify it rather than retyping it."
   ]
  },
  {
   "cell_type": "code",
   "execution_count": 6,
   "metadata": {},
   "outputs": [
    {
     "name": "stdout",
     "output_type": "stream",
     "text": [
      "How large would you like the wheels on your car?\n",
      "Please choose a number from 5 (small) to 30 (huge):  5\n"
     ]
    }
   ],
   "source": [
    "from graphics import *\n",
    "\n",
    "def draw_body(win):\n",
    "    main_body=Rectangle(Point(300,250),Point(400,225))\n",
    "    main_body.setFill(\"blue\")\n",
    "    main_body.draw(win)\n",
    "    \n",
    "    top_body=Rectangle(Point(340,225),Point(380,200))\n",
    "    top_body.setFill(\"gray75\")\n",
    "    top_body.draw(win)    \n",
    "    \n",
    "def draw_wheels(win, wRad):\n",
    "    front_wheel=Circle(Point(375,250), wRad)\n",
    "    front_wheel.setFill(\"black\")\n",
    "    front_wheel.draw(win)\n",
    "\n",
    "    rear_wheel=Circle(Point(325,250), wRad)\n",
    "    rear_wheel.setFill(\"black\")\n",
    "    rear_wheel.draw(win)    \n",
    "\n",
    "def draw_car(win, wRad):\n",
    "    draw_body(win)\n",
    "    draw_wheels(win, wRad)\n",
    "    \n",
    "main_win = GraphWin(\"A Car\", 500,300)\n",
    "\n",
    "print(\"How large would you like the wheels on your car?\")\n",
    "wSize = int(input(\"Please choose a number from 5 (small) to 30 (huge):  \"))\n",
    "\n",
    "draw_car(main_win, wSize)\n",
    "\n",
    "main_win.getKey()\n",
    "main_win.close()"
   ]
  },
  {
   "cell_type": "markdown",
   "metadata": {},
   "source": [
    "__Q6:__ Which process from __Q1__ or __Q2__ did you apply in making the changes in __Q5__? Which measure of program quality (*readability*, *maintainability*, *reusability*, *efficiency*) has been most affected by the changes you made? Briefly explain your answer."
   ]
  },
  {
   "cell_type": "markdown",
   "metadata": {},
   "source": [
    "The changes made in Q5 are *generalization*, as the `draw_wheels()` function has a new parameter (`wRad`) that gives the function a wider range of application: it can now draw wheels of any size. This improves the function's *reusability*."
   ]
  },
  {
   "cell_type": "markdown",
   "metadata": {},
   "source": [
    "__Q7:__ Sometimes \"[hot rod](https://www.rodauthority.com/features/ask-the-experts-what-is-a-hot-rod/)\" cars will have larger wheels on the back of the car than on the front of the car.  Rewrite your program from __Q5__ in the cell below so that:\n",
    "- The user is prompted for both the front and the rear wheel sizes.\n",
    "- The front and rear wheels are drawn in the sizes that the user specified.\n",
    "\n",
    "Hint: You will need to modify the main program, the `draw_car` and the `draw_wheel` functions for this question."
   ]
  },
  {
   "cell_type": "code",
   "execution_count": 4,
   "metadata": {},
   "outputs": [
    {
     "name": "stdout",
     "output_type": "stream",
     "text": [
      "Okay Motorhead, we are going to give you fat wheels on your hot rod!\n",
      "How large would you like the front wheels of your car?\n",
      "Please choose a number from 5 (small) to 15 (large):  10\n",
      "How much larger would you like the rear wheels of your car?\n",
      "Please choose a number from 5 (small) to 15 (large):  15\n"
     ]
    }
   ],
   "source": [
    "from graphics import *\n",
    "\n",
    "def draw_body(win):\n",
    "    main_body=Rectangle(Point(300,250),Point(400,225))\n",
    "    main_body.setFill(\"blue\")\n",
    "    main_body.draw(win)\n",
    "    \n",
    "    top_body=Rectangle(Point(340,225),Point(380,200))\n",
    "    top_body.setFill(\"gray75\")\n",
    "    top_body.draw(win)    \n",
    "    \n",
    "def draw_wheels(win, wRad, wRadDif):\n",
    "    # An inconsistency in the provided code should become apparent at this point!\n",
    "    \n",
    "    front_wheel=Circle(Point(325,250), wRad) # Switched front wheel X with rear wheel.\n",
    "    front_wheel.setFill(\"black\")\n",
    "    front_wheel.draw(win)\n",
    "\n",
    "    rear_wheel=Circle(Point(375,250), wRad + wRadDif) # Switched rear wheel X with front wheel.\n",
    "    rear_wheel.setFill(\"black\")\n",
    "    rear_wheel.draw(win)    \n",
    "\n",
    "def draw_car(win, wSizeF, wSizeR):\n",
    "    draw_body(win)\n",
    "    draw_wheels(win, wSizeF, wSizeR)\n",
    "    \n",
    "main_win = GraphWin(\"A Car\", 500,300)\n",
    "\n",
    "print(\"Okay Motorhead, we are going to give you fat wheels on your hot rod!\")\n",
    "print(\"How large would you like the front wheels of your car?\")\n",
    "wSizeF = int(input(\"Please choose a number from 5 (small) to 15 (large):  \"))\n",
    "\n",
    "print(\"How much larger would you like the rear wheels of your car?\")\n",
    "wSizeDif = int(input(\"Please choose a number from 5 (small) to 15 (large):  \"))\n",
    "\n",
    "draw_car(main_win, wSizeF, wSizeDif)\n",
    "\n",
    "main_win.getKey()\n",
    "main_win.close()"
   ]
  },
  {
   "cell_type": "markdown",
   "metadata": {},
   "source": [
    "### Same Thing New Shape"
   ]
  },
  {
   "cell_type": "markdown",
   "metadata": {},
   "source": [
    "__Q8:__ Think up another shape that you can draw that has properties that are similar to the car example. For whatever you decide to draw your program must:\n",
    "- have a function that draws your shape (i.e. like `draw_car`).\n",
    "- have functions that encapsulate at least two well defined parts of your shape (i.e. like `draw_body` and `draw_wheels`).\n",
    "- have at least one repeated element (e.g. like the wheels).\n",
    "- have at least one function that is generalized so that its appearance (e.g. size, position, color) can be changed by a user input value.\n",
    "\n",
    "Write a program that draws your shape.  You can write your program in the cell below or in a file named __myshape.py__ in your __Class13-14__ folder if you prefer."
   ]
  },
  {
   "cell_type": "markdown",
   "metadata": {},
   "source": [
    "__Q9:__ Using variable, function and parameter names that are descriptive of their purpose makes it easier for others to read and understand your program. Consider whether the variable, function and parameter names that you used will be helpful in understanding your program.  If necessary, revise your program so that it uses more descriptive names."
   ]
  },
  {
   "cell_type": "markdown",
   "metadata": {},
   "source": [
    "![Stop sign](stop.png)\n",
    "End of Class 13 material."
   ]
  },
  {
   "cell_type": "markdown",
   "metadata": {},
   "source": [
    "### Refactoring the Car"
   ]
  },
  {
   "cell_type": "markdown",
   "metadata": {},
   "source": [
    "__Q10:__ When a program is refactored what does not change?"
   ]
  },
  {
   "cell_type": "markdown",
   "metadata": {},
   "source": [
    "The *functionality* of the program does not change.\n",
    "\n",
    "What the program accomplishes or produces does not change."
   ]
  },
  {
   "cell_type": "markdown",
   "metadata": {},
   "source": [
    "__Q11:__ What four things does refactoring aim to improve?"
   ]
  },
  {
   "cell_type": "markdown",
   "metadata": {},
   "source": [
    "1. Readability \n",
    "\n",
    "2. Maintainability \n",
    "\n",
    "3. Problem Solving \n",
    "\n",
    "4. Reusability "
   ]
  },
  {
   "cell_type": "markdown",
   "metadata": {},
   "source": [
    "__Q12:__ What are 6 processes that can be used in refactoring to improve a program?"
   ]
  },
  {
   "cell_type": "markdown",
   "metadata": {},
   "source": [
    "1. Using more meaningful names and better formatting\n",
    "\n",
    "2. Encapsulating functionality\n",
    "\n",
    "3. Generalizing functionality\n",
    "\n",
    "4. Making function interfaces cleaner\n",
    "\n",
    "5. Factoring out repeated code\n",
    "\n",
    "6. Using better algorithms"
   ]
  },
  {
   "cell_type": "markdown",
   "metadata": {},
   "source": [
    "__Q13:__ As it turns out you have already done some refactoring.  Which questions from __Q1__-__Q9__ ask you do do refactoring? For each of those questions indicate which of the things you identified in __Q11__ was improved and the process from __Q12__ that was used."
   ]
  },
  {
   "cell_type": "markdown",
   "metadata": {},
   "source": [
    "Q3 readability\n",
    "* Using more meaningful names and better formatting\n",
    "* Encapsulating functionality\n",
    "\n",
    "Q5 reusability\n",
    "* generalizing functionality\n",
    "\n",
    "Q7 reusability\n",
    "* generalizing functionality\n",
    "* Note: A very strict interpretation of *functionality* would remove Q7 from this list because the new program's ability to draw wheels *of different sizes* represents a change in  its functionality.\n",
    "\n",
    "Q9 reusability\n",
    "* Using more meaningful names and better formatting"
   ]
  },
  {
   "cell_type": "markdown",
   "metadata": {},
   "source": [
    "__Q14:__ What are the three properties of a *clean interface*?"
   ]
  },
  {
   "cell_type": "markdown",
   "metadata": {},
   "source": [
    "A clean interface is:\n",
    "* Clear: functions and parameters have meaningful names for that communicate their purpose.\n",
    "* Consistent: parameter names, types, order and meaning are consistent across functions.\n",
    "* Simple: does not require unnecessary or esoteric information."
   ]
  },
  {
   "cell_type": "markdown",
   "metadata": {},
   "source": [
    "__Q15:__ Notice that there is repetitive code in the `draw_wheels` function from __Q7__.  Rewrite your program from __Q7__ in the cell below, but refactor the `draw_wheels` function within so that:\n",
    "- the repetitive code factored out into a function named `draw_wheel`.\n",
    "- the `draw_wheels` function modified to use your new `draw_wheel`.\n",
    "\n",
    "Be sure that your new `draw_wheel` function has a *clean interface.*"
   ]
  },
  {
   "cell_type": "code",
   "execution_count": 1,
   "metadata": {},
   "outputs": [
    {
     "name": "stdout",
     "output_type": "stream",
     "text": [
      "Okay Motorhead, we are going to give you fat wheels on your hot rod!\n",
      "How large would you like the front wheels of your car?\n",
      "Please choose a number from 5 (small) to 15 (large):  10\n",
      "How much larger would you like the rear wheels of your car?\n",
      "Please choose a number from 5 (small) to 15 (large):  10\n"
     ]
    }
   ],
   "source": [
    "from graphics import *\n",
    "\n",
    "def draw_body(win):\n",
    "    \"\"\"Draws the 2 rectangles for the body of the car.\"\"\"\n",
    "    main_body=Rectangle(Point(300,250),Point(400,225))\n",
    "    main_body.setFill(\"blue\")\n",
    "    main_body.draw(win)\n",
    "    \n",
    "    top_body=Rectangle(Point(340,225),Point(380,200))\n",
    "    top_body.setFill(\"gray75\")\n",
    "    top_body.draw(win)    \n",
    "\n",
    "def draw_wheel(win, wX, wRad):\n",
    "    \"\"\"Draws 1 wheel of the car.\"\"\"\n",
    "    wheel=Circle(Point(wX,250), wRad) \n",
    "    wheel.setFill(\"black\")\n",
    "    wheel.draw(win)\n",
    "    \n",
    "def draw_wheels(win, wRad, wRadDif):\n",
    "    \"\"\"Draws the front and rear wheels of the car.\n",
    "       Allows for larger wheels in the back.\"\"\"\n",
    "    front_wheel=draw_wheel(win, 325, wRad)\n",
    "    rear_wheel=draw_wheel(win, 375, wRad + wRadDif)\n",
    "\n",
    "def draw_car(win, wSizeF, wSizeR):\n",
    "    \"\"\"Calls 2 functions to draw the entire car.\"\"\"\n",
    "    draw_body(win)\n",
    "    draw_wheels(win, wSizeF, wSizeR)\n",
    "    \n",
    "main_win = GraphWin(\"A Car\", 500,300)\n",
    "\n",
    "print(\"Okay Motorhead, we are going to give you fat wheels on your hot rod!\")\n",
    "print(\"How large would you like the front wheels of your car?\")\n",
    "wSizeF = int(input(\"Please choose a number from 5 (small) to 15 (large):  \"))\n",
    "\n",
    "print(\"How much larger would you like the rear wheels of your car?\")\n",
    "wSizeDif = int(input(\"Please choose a number from 5 (small) to 15 (large):  \"))\n",
    "\n",
    "draw_car(main_win, wSizeF, wSizeDif)\n",
    "\n",
    "main_win.getKey()\n",
    "main_win.close()"
   ]
  },
  {
   "cell_type": "markdown",
   "metadata": {},
   "source": [
    "__Q16:__ Fancier car tires have \"[white walls](https://www.cokertire.com/tires/styles/whitewall-tires.html)\" and hubcaps. Rewrite your program from __Q15__ and modify the `draw_wheel` file so that both tires appear with a white wall and a hubcap.  You may assume the following: \n",
    "- The white walls are a fixed width regardless of the size of the wheels (pick what looks good to you).\n",
    "- The hubcaps are all the same color (you pick) and occupy the center 25% of the wheel.\n",
    "\n",
    "Note: If the interface to your `draw_wheel` function should not need to change for this question."
   ]
  },
  {
   "cell_type": "code",
   "execution_count": 3,
   "metadata": {},
   "outputs": [
    {
     "name": "stdout",
     "output_type": "stream",
     "text": [
      "Okay Motorhead, we are going to give you fat wheels on your hot rod!\n",
      "How large would you like the front wheels of your car?\n",
      "Please choose a number from 10 (small) to 20 (large):  15\n",
      "How much larger would you like the rear wheels of your car?\n",
      "Please choose a number from 5 (a little larger) to 15 (much larger):  10\n"
     ]
    }
   ],
   "source": [
    "from graphics import *\n",
    "\n",
    "def draw_body(win):\n",
    "    \"\"\"Draws the 2 rectangles for the body of the car.\"\"\"\n",
    "    main_body=Rectangle(Point(300,250),Point(400,225))\n",
    "    main_body.setFill(\"blue\")\n",
    "    main_body.draw(win)\n",
    "    \n",
    "    top_body=Rectangle(Point(340,225),Point(380,200))\n",
    "    top_body.setFill(\"gray75\")\n",
    "    top_body.draw(win)    \n",
    "\n",
    "def draw_wheel(win, wX, wRad):\n",
    "    \"\"\"Draws 1 wheel of the car with hubcap and whitewalls.\"\"\"\n",
    "    tire=Circle(Point(wX,250), wRad) \n",
    "    tire.setFill(\"black\")\n",
    "    tire.draw(win)\n",
    "    \n",
    "    wWall=Circle(Point(wX,250), 8) \n",
    "    wWall.setFill(\"white\")\n",
    "    wWall.draw(win)\n",
    "    \n",
    "    hub=Circle(Point(wX,250), wRad // 4) \n",
    "    hub.setFill(\"light gray\")\n",
    "    hub.draw(win)\n",
    "    \n",
    "def draw_wheels(win, wRad, wRadDif):\n",
    "    \"\"\"Draws the front and rear wheels of the car.\n",
    "       Allows for larger wheels in the back.\"\"\"\n",
    "    front_wheel=draw_wheel(win, 325, wRad)\n",
    "    rear_wheel=draw_wheel(win, 375, wRad + wRadDif)\n",
    "\n",
    "def draw_car(win, wSizeF, wSizeR):\n",
    "    \"\"\"Calls 2 functions to draw the entire car.\"\"\"\n",
    "    draw_body(win)\n",
    "    draw_wheels(win, wSizeF, wSizeR)\n",
    "    \n",
    "main_win = GraphWin(\"A Car\", 500,300)\n",
    "\n",
    "print(\"Okay Motorhead, we are going to give you fat wheels on your hot rod!\")\n",
    "print(\"How large would you like the front wheels of your car?\")\n",
    "wSizeF = int(input(\"Please choose a number from 10 (small) to 20 (large):  \"))\n",
    "\n",
    "print(\"How much larger would you like the rear wheels of your car?\")\n",
    "wSizeDif = int(input(\"Please choose a number from 5 (a little larger) to 15 (much larger):  \"))\n",
    "\n",
    "draw_car(main_win, wSizeF, wSizeDif)\n",
    "\n",
    "main_win.getKey()\n",
    "main_win.close()"
   ]
  },
  {
   "cell_type": "markdown",
   "metadata": {},
   "source": [
    "__Q17:__ Consider your program before and after __Q15__ and the amount of work that would have been required for __Q16__ if you hadn't refactored. Based on this, which of the 4 things that are improved by refactoring are improved by factoring out repeated code?  Briefly explain your answer."
   ]
  },
  {
   "cell_type": "markdown",
   "metadata": {},
   "source": [
    "1. Readability\n",
    "    * More well named functions make each section of code more specific about what it is doing.\n",
    "    * Doc strings make the purpose of each function even more clear.\n",
    "\n",
    "\n",
    "2. Maintainability\n",
    "    * It was easy to add whitewalls and hubcaps to both wheels when the individual wheel drawing code was refactored into its own function.\n",
    "\n",
    "\n",
    "3. Problem Solving\n",
    "    * While the \"problem\" of adding white walls and hubcaps was not too challenging, it was easier to solve it because we only had to focus on a single function, `draw_wheel()`.\n",
    "\n",
    "\n",
    "4. Reusability\n",
    "    * Now that a wheel can be drawn on its own, we can add more wheels wherever we like on the car, in any sizes we like and in whatever colors of tires, walls and hubcaps! "
   ]
  },
  {
   "cell_type": "markdown",
   "metadata": {},
   "source": [
    "__Q18:__ __*Imagine*__ that you were asked to answer __Q16__ for each of the following scenarios:\n",
    "1. The width of the white walls is the same for all tires but is specified by the user, and the hubcap occupies the center 50% of the wheel. \n",
    "1. The white walls are a fixed width regardless of the size of the wheels and the hubcaps are always colored `\"red\"`\n",
    "1. The white walls are a fixed width regardless of the size of the wheels and the hubcap of the rear tire occupies 40% of the wheel, while the hubcap of the front tire occupies 70% of the wheel.\n",
    "\n",
    "Note: You do not need to implement these scenarios!\n",
    "\n",
    "Using a numbered list, specify a *clean interface* for the `draw_wheel` function that would be suitable for each scenario."
   ]
  },
  {
   "cell_type": "markdown",
   "metadata": {},
   "source": [
    "1. def draw_wheel(win, wX, wRad, wwRad):\n",
    "\n",
    "    \"\"\"Draws 1 wheel: hubcap radius = wRad/2, whitewall radius = wwRad.\"\"\"\n",
    "\n",
    "\n",
    "2. def draw_wheel(win, wX, wRad):\n",
    "\n",
    "    \"\"\"Draws 1 wheel: red hubcap, radius = wRad/2 and fixed whitewall radius.\"\"\"\n",
    " \n",
    " \n",
    "3. def draw_wheel(win, wX, wRad, hubPercent):\n",
    "\n",
    "    \"\"\"Draws 1 wheel: hubcap radius = wRad * hubPercent and fixed whitewall radius.\"\"\""
   ]
  },
  {
   "cell_type": "markdown",
   "metadata": {},
   "source": [
    "### Keep On Truckin'"
   ]
  },
  {
   "cell_type": "markdown",
   "metadata": {},
   "source": [
    "__Q19:__ Run the program __bigtruck.py__ in the terminal and then open the file __bigtruck.py__ in JupyterLabs and study the code until you understand how it produces the picture.  There is no answer required for this question."
   ]
  },
  {
   "cell_type": "markdown",
   "metadata": {},
   "source": [
    "__Q20:__ Modify __bigtruck.py__ so that it:\n",
    "- prompts the user for the length of the trailer in pixels\n",
    "- draws the truck with the trailer extended to the left to the size specified by the user\n",
    "- draws both of the trailer wheels side by side (as they are now) but at the left end of the trailer."
   ]
  },
  {
   "cell_type": "code",
   "execution_count": 7,
   "metadata": {},
   "outputs": [
    {
     "name": "stdout",
     "output_type": "stream",
     "text": [
      "How many pixels long should the truck's trailer be?\n",
      "Minimum length = 75 pixels: please enter length: 100\n"
     ]
    }
   ],
   "source": [
    "from graphics import *\n",
    "\n",
    "def draw_wheel(win, wheel_x, wheel_y, wheel_radius):\n",
    "    \"\"\" Draw a black wheel at x,y with radius \"\"\"\n",
    "    wheel=Circle(Point(wheel_x, wheel_y), wheel_radius)\n",
    "    wheel.setFill(\"black\")\n",
    "    wheel.draw(win)\n",
    "\n",
    "def draw_tractor(win):\n",
    "    \"\"\" Draw the front of the truck \"\"\"\n",
    "    cab=Rectangle(Point(350,200),Point(420,125))\n",
    "    cab.setFill(\"palegreen4\")\n",
    "    cab.setOutline(\"palegreen4\")\n",
    "    cab.draw(win)\n",
    "    \n",
    "    engine=Rectangle(Point(420,200),Point(450,150))\n",
    "    engine.setFill(\"palegreen4\")\n",
    "    engine.setOutline(\"palegreen4\")\n",
    "    engine.draw(win)\n",
    "    \n",
    "    draw_wheel(win, 375, 200, 20)\n",
    "    draw_wheel(win, 425, 200, 20)\n",
    "    \n",
    "def draw_trailer(win, trailLen):\n",
    "    \"\"\" Draw the trailer \"\"\"\n",
    "    bed=Rectangle(Point(345 - trailLen,200),Point(345,180))\n",
    "    bed.setFill(\"gray50\")\n",
    "    bed.draw(win)\n",
    "    \n",
    "    trailLen = trailLen - 100\n",
    "    draw_wheel(win, 270- trailLen, 200, 20)\n",
    "    draw_wheel(win, 315- trailLen, 200, 20)\n",
    "    \n",
    "def draw_truck(win, trailLen):\n",
    "    \"\"\" Draw the whole truck \"\"\"\n",
    "    draw_tractor(win)\n",
    "    draw_trailer(win, trailLen)\n",
    "\n",
    "print(\"How many pixels long should the truck's trailer be?\")\n",
    "bedLen = int(input(\"Minimum length = 75 pixels: please enter length: \"))    \n",
    "\n",
    "truck_win = GraphWin(\"Big Truck\", 500, 300)\n",
    "draw_truck(truck_win, bedLen)    \n",
    "\n",
    "truck_win.getKey()\n",
    "truck_win.close()"
   ]
  },
  {
   "cell_type": "markdown",
   "metadata": {},
   "source": [
    "__Q21:__ Encapsulate the drawing of the trailer wheels into its own function with a clean interface."
   ]
  },
  {
   "cell_type": "code",
   "execution_count": null,
   "metadata": {},
   "outputs": [
    {
     "name": "stdout",
     "output_type": "stream",
     "text": [
      "How many pixels long should the truck's trailer be?\n",
      "Minimum length = 75 pixels: please enter length: 200\n"
     ]
    }
   ],
   "source": [
    "from graphics import *\n",
    "\n",
    "def draw_wheel(win, wheel_x, wheel_y, wheel_radius):\n",
    "    \"\"\" Draw a black wheel at x,y with radius \"\"\"\n",
    "    wheel=Circle(Point(wheel_x, wheel_y), wheel_radius)\n",
    "    wheel.setFill(\"black\")\n",
    "    wheel.draw(win)\n",
    "\n",
    "def draw_tractor(win):\n",
    "    \"\"\" Draw the front of the truck \"\"\"\n",
    "    cab=Rectangle(Point(350,200),Point(420,125))\n",
    "    cab.setFill(\"palegreen4\")\n",
    "    cab.setOutline(\"palegreen4\")\n",
    "    cab.draw(win)\n",
    "    \n",
    "    engine=Rectangle(Point(420,200),Point(450,150))\n",
    "    engine.setFill(\"palegreen4\")\n",
    "    engine.setOutline(\"palegreen4\")\n",
    "    engine.draw(win)\n",
    "    \n",
    "    draw_wheel(win, 375, 200, 20)\n",
    "    draw_wheel(win, 425, 200, 20)\n",
    "    \n",
    "def draw_trailer(win, trailLen):\n",
    "    \"\"\" Draw the trailer \"\"\"\n",
    "    bed=Rectangle(Point(345 - trailLen,200),Point(345,180))\n",
    "    bed.setFill(\"gray50\")\n",
    "    bed.draw(win)\n",
    "    draw_trailer_Ws(win, trailLen)\n",
    "    \n",
    "def draw_trailer_Ws(win, trailLen):\n",
    "    \"\"\" Draw the rear wheels of the trailer.\"\"\"  \n",
    "    trailLen = trailLen - 100\n",
    "    draw_wheel(win, 270- trailLen, 200, 20)\n",
    "    draw_wheel(win, 315- trailLen, 200, 20)\n",
    "    \n",
    "def draw_truck(win, trailLen):\n",
    "    \"\"\" Draw the whole truck \"\"\"\n",
    "    draw_tractor(win)\n",
    "    draw_trailer(win, trailLen)\n",
    "\n",
    "print(\"How many pixels long should the truck's trailer be?\")\n",
    "bedLen = int(input(\"Minimum length = 75 pixels: please enter length: \"))    \n",
    "\n",
    "truck_win = GraphWin(\"Big Truck\", 500, 300)\n",
    "draw_truck(truck_win, bedLen)    \n",
    "\n",
    "truck_win.getKey()\n",
    "truck_win.close()"
   ]
  },
  {
   "cell_type": "markdown",
   "metadata": {},
   "source": [
    "__Q22:__ Modify your function from __Q21__ so that it draws wheels under the full length of the trailer (as shown below).  Keep the interface of your function clean.\n",
    "\n",
    "![A long truck with lots of wheels](truck.jpeg)"
   ]
  },
  {
   "cell_type": "code",
   "execution_count": 26,
   "metadata": {},
   "outputs": [
    {
     "name": "stdout",
     "output_type": "stream",
     "text": [
      "How many pixels long should the truck's trailer be?\n",
      "Minimum length = 75 pixels: please enter length: 300\n"
     ]
    }
   ],
   "source": [
    "from graphics import *\n",
    "\n",
    "def draw_wheel(win, wheel_x, wheel_y, wheel_radius):\n",
    "    \"\"\" Draw a black wheel at x,y with radius \"\"\"\n",
    "    wheel=Circle(Point(wheel_x, wheel_y), wheel_radius)\n",
    "    wheel.setFill(\"black\")\n",
    "    wheel.draw(win)\n",
    "\n",
    "def draw_tractor(win):\n",
    "    \"\"\" Draw the front of the truck \"\"\"\n",
    "    cab=Rectangle(Point(350,200),Point(420,125))\n",
    "    cab.setFill(\"palegreen4\")\n",
    "    cab.setOutline(\"palegreen4\")\n",
    "    cab.draw(win)\n",
    "    \n",
    "    engine=Rectangle(Point(420,200),Point(450,150))\n",
    "    engine.setFill(\"palegreen4\")\n",
    "    engine.setOutline(\"palegreen4\")\n",
    "    engine.draw(win)\n",
    "    \n",
    "    draw_wheel(win, 375, 200, 20)\n",
    "    draw_wheel(win, 425, 200, 20)\n",
    "    \n",
    "def draw_trailer(win, trailLen):\n",
    "    \"\"\" Draw the trailer \"\"\"\n",
    "    bed=Rectangle(Point(345 - trailLen,200),Point(345,180))\n",
    "    bed.setFill(\"gray50\")\n",
    "    bed.draw(win)\n",
    "    draw_trailer_Ws(win, trailLen)\n",
    "    \n",
    "def draw_trailer_Ws(win, trailLen):\n",
    "    \"\"\" Draw the rear wheels of the trailer.\"\"\"\n",
    "    wheelSpace = 47\n",
    "    wheelNum = trailLen // wheelSpace\n",
    "    trailLen = trailLen - 100\n",
    "    spacing = 0\n",
    "    for i in range(wheelNum):\n",
    "        draw_wheel(win, 270- trailLen + spacing, 200, 20)\n",
    "        spacing = spacing + wheelSpace\n",
    "\n",
    "def draw_truck(win, trailLen):\n",
    "    \"\"\" Draw the whole truck \"\"\"\n",
    "    draw_tractor(win)\n",
    "    draw_trailer(win, trailLen)\n",
    "\n",
    "print(\"How many pixels long should the truck's trailer be?\")\n",
    "bedLen = int(input(\"Minimum length = 75 pixels: please enter length: \"))    \n",
    "\n",
    "truck_win = GraphWin(\"Big Truck\", 500, 300)\n",
    "draw_truck(truck_win, bedLen)    \n",
    "\n",
    "truck_win.getKey()\n",
    "truck_win.close()"
   ]
  }
 ],
 "metadata": {
  "kernelspec": {
   "display_name": "Python 3",
   "language": "python",
   "name": "python3"
  },
  "language_info": {
   "codemirror_mode": {
    "name": "ipython",
    "version": 3
   },
   "file_extension": ".py",
   "mimetype": "text/x-python",
   "name": "python",
   "nbconvert_exporter": "python",
   "pygments_lexer": "ipython3",
   "version": "3.7.3"
  }
 },
 "nbformat": 4,
 "nbformat_minor": 2
}
